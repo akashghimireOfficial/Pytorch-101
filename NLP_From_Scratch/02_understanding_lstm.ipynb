{
 "cells": [
  {
   "cell_type": "markdown",
   "metadata": {},
   "source": [
    "## Parameters of `nn.LSTM` in PyTorch\n",
    "\n",
    "- `input_size`: The number of expected features in the input `x`.\n",
    "- `hidden_size`: Equivalent to `units` in TensorFlow, this is the number of features in the hidden state `h`.\n",
    "- `num_layers`: Corresponds to the `layers` in TensorFlow, specifying the number of LSTM layers to stack.\n",
    "- `batch_first`: When set to `True`, the input and output tensors are expected to be in the form of (batch, seq, feature).\n",
    "- `dropout`: The dropout rate for regularization, applied to the outputs of each LSTM layer except the last one.\n",
    "- `bidirectional`: If set to `True`, creates a bidirectional LSTM.\n",
    "\n",
    "Keep in mind that PyTorch's `nn.LSTM` expects the input data type to be a floating-point tensor, typically `torch.float32`. Unlike TensorFlow, which defaults to `tf.float32`, you must ensure that your input data to the LSTM is of this type. If not, cast your data to `torch.float32` before passing it to the LSTM layer.\n",
    "\n",
    "## forward() of `nn.LSTM()` in PyTorch \n",
    "\n",
    "- `input`: shape=batch,seq_len,intput_size\n",
    "- `h_0`: Output of the last hidden state. If not provided initialized to 0; shape=D*num_layers, hidden_size; where D=2 if bi-directional ==True\n",
    "- `c_0`: Output of the last output cell state; If not provided initialized to 0; shape=D*num_layers, hidden_size; where D=2 if bi-directional ==True\n",
    "\n"
   ]
  },
  {
   "cell_type": "code",
   "execution_count": 2,
   "metadata": {},
   "outputs": [],
   "source": [
    "import torch \n",
    "\n",
    "import torch.nn as nn"
   ]
  },
  {
   "cell_type": "code",
   "execution_count": 3,
   "metadata": {},
   "outputs": [],
   "source": [
    "device=('cuda' if torch.cuda.is_available() else \"cpu\")"
   ]
  },
  {
   "cell_type": "code",
   "execution_count": 4,
   "metadata": {},
   "outputs": [
    {
     "data": {
      "text/plain": [
       "'cuda'"
      ]
     },
     "execution_count": 4,
     "metadata": {},
     "output_type": "execute_result"
    }
   ],
   "source": [
    "device"
   ]
  },
  {
   "cell_type": "code",
   "execution_count": 6,
   "metadata": {},
   "outputs": [
    {
     "name": "stdout",
     "output_type": "stream",
     "text": [
      "dtype(sample_input)  : torch.float32\n",
      "samnple_input.shape : torch.Size([10, 17, 3])\n"
     ]
    }
   ],
   "source": [
    "## creating_input\n",
    "batch_size=10\n",
    "seq_len=17 ## num of tokens \n",
    "num_features=3 ## each token is embedded to three features \n",
    "output_feature_size=5\n",
    "\n",
    "sample_input=torch.rand(size=(batch_size,seq_len,num_features),dtype=torch.float32)\n",
    "print('dtype(sample_input)  :',sample_input.dtype)\n",
    "print('samnple_input.shape :', sample_input.shape)"
   ]
  },
  {
   "cell_type": "code",
   "execution_count": 7,
   "metadata": {},
   "outputs": [],
   "source": [
    "lstm_layer=nn.LSTM(num_features,5,batch_first=True,num_layers=2) ## paramters: input_shape,hidden_size, batch_first"
   ]
  },
  {
   "cell_type": "code",
   "execution_count": 12,
   "metadata": {},
   "outputs": [],
   "source": [
    "h_i=torch.zeros(size=(2,batch_size,5))\n",
    "c_i=torch.zeros(size=(2,batch_size,5))"
   ]
  },
  {
   "cell_type": "code",
   "execution_count": 13,
   "metadata": {},
   "outputs": [],
   "source": [
    "output,(h_o,c_o)=lstm_layer(sample_input,(h_i,c_i))"
   ]
  },
  {
   "cell_type": "code",
   "execution_count": 16,
   "metadata": {},
   "outputs": [
    {
     "data": {
      "text/plain": [
       "torch.Size([10, 17, 5])"
      ]
     },
     "execution_count": 16,
     "metadata": {},
     "output_type": "execute_result"
    }
   ],
   "source": [
    "output.shape"
   ]
  },
  {
   "cell_type": "code",
   "execution_count": 29,
   "metadata": {},
   "outputs": [
    {
     "data": {
      "text/plain": [
       "torch.Size([10, 17, 5])"
      ]
     },
     "execution_count": 29,
     "metadata": {},
     "output_type": "execute_result"
    }
   ],
   "source": [
    "output[0].shape"
   ]
  },
  {
   "cell_type": "code",
   "execution_count": 32,
   "metadata": {},
   "outputs": [
    {
     "name": "stdout",
     "output_type": "stream",
     "text": [
      "output.shape : torch.Size([10, 17, 5])\n"
     ]
    }
   ],
   "source": [
    "print('output.shape :',output[0].shape) ## returns batc\n",
    "## Unlike Tensorflow, pytorch LSTM will always have 'return_sequence=True'"
   ]
  },
  {
   "cell_type": "code",
   "execution_count": 40,
   "metadata": {},
   "outputs": [
    {
     "name": "stdout",
     "output_type": "stream",
     "text": [
      "torch.Size([10, 17, 5])\n"
     ]
    }
   ],
   "source": [
    "### calling two LSTM Layer\n",
    "lstm_layer_1=nn.LSTM(num_features,5,batch_first=True)\n",
    "lstm_layer_2=nn.LSTM(num_features,5,batch_first=True)\n",
    "output1=lstm_layer_1(sample_input)\n",
    "output2=lstm_layer_2(output1[0])\n",
    "\n",
    "print(output2[0].shape)"
   ]
  },
  {
   "cell_type": "code",
   "execution_count": 41,
   "metadata": {},
   "outputs": [],
   "source": [
    "## if we are defining two LSTM with same parameters we can simply minimkize the above code as\n",
    "lstm_layer_stacked=nn.LSTM(num_features,5,num_layers=2,batch_first=True)"
   ]
  },
  {
   "cell_type": "code",
   "execution_count": 42,
   "metadata": {},
   "outputs": [],
   "source": [
    "output_from_stacked=lstm_layer_stacked(sample_input)"
   ]
  },
  {
   "cell_type": "code",
   "execution_count": 43,
   "metadata": {},
   "outputs": [
    {
     "name": "stdout",
     "output_type": "stream",
     "text": [
      "torch.Size([10, 17, 5])\n"
     ]
    }
   ],
   "source": [
    "print(output_from_stacked[0].shape)"
   ]
  },
  {
   "cell_type": "code",
   "execution_count": null,
   "metadata": {},
   "outputs": [],
   "source": []
  }
 ],
 "metadata": {
  "kernelspec": {
   "display_name": "vision",
   "language": "python",
   "name": "python3"
  },
  "language_info": {
   "codemirror_mode": {
    "name": "ipython",
    "version": 3
   },
   "file_extension": ".py",
   "mimetype": "text/x-python",
   "name": "python",
   "nbconvert_exporter": "python",
   "pygments_lexer": "ipython3",
   "version": "3.9.12"
  }
 },
 "nbformat": 4,
 "nbformat_minor": 2
}
