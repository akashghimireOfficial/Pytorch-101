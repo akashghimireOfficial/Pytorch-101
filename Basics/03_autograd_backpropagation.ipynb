{
 "cells": [
  {
   "cell_type": "markdown",
   "metadata": {},
   "source": [
    "## Autograd"
   ]
  },
  {
   "cell_type": "code",
   "execution_count": 1,
   "metadata": {},
   "outputs": [],
   "source": [
    "import torch \n"
   ]
  },
  {
   "cell_type": "code",
   "execution_count": 2,
   "metadata": {},
   "outputs": [
    {
     "name": "stdout",
     "output_type": "stream",
     "text": [
      "True\n"
     ]
    }
   ],
   "source": [
    "# this is similar to tf.GradientTape() in tensorflow \n",
    "# Create a variable with requires_grad=True\n",
    "\n",
    "x=torch.tensor([1,2,3],dtype=torch.float32,requires_grad=True)\n",
    "y=x+2\n",
    "z=torch.square(y)\n",
    "z1=torch.square(y)\n",
    "print(z.requires_grad) #so y is also created with requires_grad=True\n",
    "\n"
   ]
  },
  {
   "cell_type": "code",
   "execution_count": 3,
   "metadata": {},
   "outputs": [
    {
     "data": {
      "text/plain": [
       "True"
      ]
     },
     "execution_count": 3,
     "metadata": {},
     "output_type": "execute_result"
    }
   ],
   "source": [
    "x.is_leaf"
   ]
  },
  {
   "cell_type": "code",
   "execution_count": 4,
   "metadata": {},
   "outputs": [
    {
     "data": {
      "text/plain": [
       "tensor(16.6667, grad_fn=<MeanBackward0>)"
      ]
     },
     "execution_count": 4,
     "metadata": {},
     "output_type": "execute_result"
    }
   ],
   "source": [
    "z.mean()"
   ]
  },
  {
   "cell_type": "code",
   "execution_count": 5,
   "metadata": {},
   "outputs": [
    {
     "name": "stdout",
     "output_type": "stream",
     "text": [
      "tensor([ 6.,  8., 10.])\n"
     ]
    }
   ],
   "source": [
    "## Calculating dl/dx (used for optimization in training process)\n",
    "# defube dl/dz (l=loss) \n",
    "dl_dz=torch.ones(3)\n",
    "z.backward(dl_dz)\n",
    "\n",
    "print(x.grad) #dl/dx "
   ]
  },
  {
   "cell_type": "code",
   "execution_count": 6,
   "metadata": {},
   "outputs": [
    {
     "name": "stdout",
     "output_type": "stream",
     "text": [
      "<AddBackward0 object at 0x7f3b3bd49730>\n",
      "<PowBackward0 object at 0x7f3b3bd492b0>\n"
     ]
    }
   ],
   "source": [
    "print(y.grad_fn)\n",
    "print(z.grad_fn)"
   ]
  },
  {
   "cell_type": "code",
   "execution_count": 7,
   "metadata": {},
   "outputs": [
    {
     "data": {
      "text/plain": [
       "tensor([ 8.0000, 10.6667, 13.3333])"
      ]
     },
     "execution_count": 7,
     "metadata": {},
     "output_type": "execute_result"
    }
   ],
   "source": [
    "## We can also define z.backward() wigtou defining dl_dz. But we have to convert z to scaler \n",
    "z1=z1.mean()\n",
    "z1.backward()\n",
    "x.grad\n",
    "\n",
    "## how does it work when we take mean, learn it later"
   ]
  },
  {
   "cell_type": "code",
   "execution_count": 24,
   "metadata": {},
   "outputs": [
    {
     "data": {
      "text/plain": [
       "tensor([ 8.0000, 10.6667, 13.3333])"
      ]
     },
     "execution_count": 24,
     "metadata": {},
     "output_type": "execute_result"
    }
   ],
   "source": [
    "x.grad"
   ]
  },
  {
   "cell_type": "code",
   "execution_count": 8,
   "metadata": {},
   "outputs": [],
   "source": [
    "## Grad Detach "
   ]
  },
  {
   "cell_type": "code",
   "execution_count": 1,
   "metadata": {},
   "outputs": [],
   "source": [
    "## Grad Accumulation \n",
    "import torch"
   ]
  },
  {
   "cell_type": "markdown",
   "metadata": {},
   "source": [
    "# Simple Backpropagation "
   ]
  },
  {
   "cell_type": "code",
   "execution_count": 2,
   "metadata": {},
   "outputs": [],
   "source": [
    "x=torch.tensor([1,2,3,4],dtype=torch.float32)\n",
    "true_m=torch.tensor([2],dtype=torch.float32)\n",
    "true_b=torch.tensor([4],dtype=torch.float32)\n",
    "y_true=x*true_m+true_b"
   ]
  },
  {
   "cell_type": "code",
   "execution_count": 3,
   "metadata": {},
   "outputs": [],
   "source": [
    "w_m=torch.rand(1,dtype=torch.float32,requires_grad=True)\n",
    "w_b=torch.rand(1,dtype=torch.float32,requires_grad=True)"
   ]
  },
  {
   "cell_type": "code",
   "execution_count": 4,
   "metadata": {},
   "outputs": [
    {
     "data": {
      "text/plain": [
       "tensor([ 6.,  8., 10., 12.])"
      ]
     },
     "execution_count": 4,
     "metadata": {},
     "output_type": "execute_result"
    }
   ],
   "source": [
    "y_true"
   ]
  },
  {
   "cell_type": "code",
   "execution_count": 5,
   "metadata": {},
   "outputs": [],
   "source": [
    "def forward_pass(X):\n",
    "    return X * w_m + w_b"
   ]
  },
  {
   "cell_type": "code",
   "execution_count": 6,
   "metadata": {},
   "outputs": [],
   "source": [
    "def loss_fnc(y_true,y_pred):\n",
    "    loss=torch.square(y_true-y_pred).mean()\n",
    "    return loss "
   ]
  },
  {
   "cell_type": "code",
   "execution_count": 7,
   "metadata": {},
   "outputs": [
    {
     "name": "stdout",
     "output_type": "stream",
     "text": [
      "Epoch Num: 0\n",
      "loss= 45.753\tw_m: 0.935\tw_b: 0.114\n",
      "Epoch Num: 10\n",
      "loss= 33.136\tw_m: 1.264\tw_b: 0.236\n",
      "Epoch Num: 20\n",
      "loss= 24.124\tw_m: 1.541\tw_b: 0.341\n",
      "Epoch Num: 30\n",
      "loss= 17.687\tw_m: 1.774\tw_b: 0.431\n",
      "Epoch Num: 40\n",
      "loss= 13.087\tw_m: 1.971\tw_b: 0.508\n",
      "Epoch Num: 50\n",
      "loss= 9.801\tw_m: 2.137\tw_b: 0.575\n",
      "Epoch Num: 60\n",
      "loss= 7.451\tw_m: 2.277\tw_b: 0.633\n",
      "Epoch Num: 70\n",
      "loss= 5.771\tw_m: 2.394\tw_b: 0.683\n",
      "Epoch Num: 80\n",
      "loss= 4.568\tw_m: 2.493\tw_b: 0.727\n",
      "Epoch Num: 90\n",
      "loss= 3.707\tw_m: 2.576\tw_b: 0.765\n"
     ]
    }
   ],
   "source": [
    "## Define the training parameters \n",
    "\n",
    "EPOCHS=100\n",
    "lr=0.001\n",
    "\n",
    "for epoch in range(EPOCHS):\n",
    "    y_pred=forward_pass(x)\n",
    "    loss=loss_fnc(y_true,y_pred)\n",
    "    \n",
    "    loss.backward()\n",
    "    dl_dw=w_m.grad\n",
    "    dl_db=w_b.grad\n",
    "\n",
    "    with torch.no_grad():\n",
    "        w_m -=lr*dl_dw\n",
    "        w_b-=lr*dl_db\n",
    "\n",
    "    if epoch%10==0:\n",
    "        print('Epoch Num: {}'.format(epoch))\n",
    "        print('loss= {:.3f}\\tw_m: {:.3f}\\tw_b: {:.3f}'.format(loss.item(),w_m.item(),w_b.item()))\n",
    "        \n",
    "    w_m.grad.zero_()\n",
    "    w_b.grad.zero_()\n"
   ]
  },
  {
   "cell_type": "code",
   "execution_count": 22,
   "metadata": {},
   "outputs": [
    {
     "name": "stdout",
     "output_type": "stream",
     "text": [
      "2.284\n"
     ]
    }
   ],
   "source": []
  },
  {
   "cell_type": "code",
   "execution_count": 24,
   "metadata": {},
   "outputs": [
    {
     "data": {
      "text/plain": [
       "3.0080771446228027"
      ]
     },
     "execution_count": 24,
     "metadata": {},
     "output_type": "execute_result"
    }
   ],
   "source": [
    "loss.item()"
   ]
  },
  {
   "cell_type": "code",
   "execution_count": null,
   "metadata": {},
   "outputs": [],
   "source": []
  }
 ],
 "metadata": {
  "kernelspec": {
   "display_name": "vision",
   "language": "python",
   "name": "python3"
  },
  "language_info": {
   "codemirror_mode": {
    "name": "ipython",
    "version": 3
   },
   "file_extension": ".py",
   "mimetype": "text/x-python",
   "name": "python",
   "nbconvert_exporter": "python",
   "pygments_lexer": "ipython3",
   "version": "3.9.12"
  }
 },
 "nbformat": 4,
 "nbformat_minor": 2
}
