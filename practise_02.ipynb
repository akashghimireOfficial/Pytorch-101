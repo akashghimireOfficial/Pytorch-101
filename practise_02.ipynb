{
 "cells": [
  {
   "cell_type": "code",
   "execution_count": 50,
   "metadata": {},
   "outputs": [],
   "source": [
    "import torch"
   ]
  },
  {
   "cell_type": "code",
   "execution_count": 60,
   "metadata": {},
   "outputs": [],
   "source": [
    "#device=('cuda' if torch.cuda.is_available() else 'cpu')\n",
    "device='cpu'"
   ]
  },
  {
   "cell_type": "code",
   "execution_count": 61,
   "metadata": {},
   "outputs": [
    {
     "name": "stdout",
     "output_type": "stream",
     "text": [
      "tensor([ 5.,  7.,  9., 11.])\n"
     ]
    }
   ],
   "source": [
    "## Simple Backpropagation \n",
    "x=torch.tensor([1,2,3,4],dtype=torch.float32).to(device=device)\n",
    "true_m=torch.tensor([2],dtype=torch.float32).to(device=device)\n",
    "true_b=torch.tensor([3],dtype=torch.float32).to(device=device)\n",
    "y_true=x*true_m+true_b\n",
    "\n",
    "print(y_true)"
   ]
  },
  {
   "cell_type": "code",
   "execution_count": 62,
   "metadata": {},
   "outputs": [],
   "source": [
    "w_m=torch.rand(1,dtype=torch.float32,requires_grad=True).to(device=device)\n",
    "w_b=torch.rand(1,dtype=torch.float32,requires_grad=True).to(device=device)\n"
   ]
  },
  {
   "cell_type": "code",
   "execution_count": 63,
   "metadata": {},
   "outputs": [
    {
     "data": {
      "text/plain": [
       "tensor([0.3263], requires_grad=True)"
      ]
     },
     "execution_count": 63,
     "metadata": {},
     "output_type": "execute_result"
    }
   ],
   "source": [
    "w_m"
   ]
  },
  {
   "cell_type": "code",
   "execution_count": 64,
   "metadata": {},
   "outputs": [],
   "source": [
    "## def forward pass\n",
    "\n",
    "def forward(X):\n",
    "    return X*w_m+w_b"
   ]
  },
  {
   "cell_type": "code",
   "execution_count": 65,
   "metadata": {},
   "outputs": [],
   "source": [
    "## defining the backward pass \n",
    "\n",
    "def criterion(y_true,y_pred):\n",
    "    loss=torch.square(y_true-y_pred).mean()\n",
    "    return loss\n"
   ]
  },
  {
   "cell_type": "code",
   "execution_count": 67,
   "metadata": {},
   "outputs": [],
   "source": [
    "## Defining the training parameters \n",
    "num_epochs=200\n",
    "lr=0.001\n"
   ]
  },
  {
   "cell_type": "code",
   "execution_count": 68,
   "metadata": {},
   "outputs": [
    {
     "name": "stdout",
     "output_type": "stream",
     "text": [
      "Epoch Num: 0\n",
      "loss= 44.638\tw_m: 0.363\tw_b: 0.783\n",
      "Epoch Num: 10\n",
      "loss= 31.976\tw_m: 0.693\tw_b: 0.901\n",
      "Epoch Num: 20\n",
      "loss= 22.935\tw_m: 0.973\tw_b: 1.001\n",
      "Epoch Num: 30\n",
      "loss= 16.478\tw_m: 1.208\tw_b: 1.086\n",
      "Epoch Num: 40\n",
      "loss= 11.868\tw_m: 1.407\tw_b: 1.158\n",
      "Epoch Num: 50\n",
      "loss= 8.575\tw_m: 1.575\tw_b: 1.220\n",
      "Epoch Num: 60\n",
      "loss= 6.223\tw_m: 1.717\tw_b: 1.273\n",
      "Epoch Num: 70\n",
      "loss= 4.544\tw_m: 1.836\tw_b: 1.319\n",
      "Epoch Num: 80\n",
      "loss= 3.344\tw_m: 1.937\tw_b: 1.358\n",
      "Epoch Num: 90\n",
      "loss= 2.486\tw_m: 2.022\tw_b: 1.392\n",
      "Epoch Num: 100\n",
      "loss= 1.873\tw_m: 2.093\tw_b: 1.421\n",
      "Epoch Num: 110\n",
      "loss= 1.435\tw_m: 2.153\tw_b: 1.446\n",
      "Epoch Num: 120\n",
      "loss= 1.122\tw_m: 2.204\tw_b: 1.468\n",
      "Epoch Num: 130\n",
      "loss= 0.897\tw_m: 2.247\tw_b: 1.487\n",
      "Epoch Num: 140\n",
      "loss= 0.737\tw_m: 2.282\tw_b: 1.504\n",
      "Epoch Num: 150\n",
      "loss= 0.621\tw_m: 2.312\tw_b: 1.519\n",
      "Epoch Num: 160\n",
      "loss= 0.538\tw_m: 2.338\tw_b: 1.533\n",
      "Epoch Num: 170\n",
      "loss= 0.478\tw_m: 2.359\tw_b: 1.544\n",
      "Epoch Num: 180\n",
      "loss= 0.435\tw_m: 2.376\tw_b: 1.555\n",
      "Epoch Num: 190\n",
      "loss= 0.404\tw_m: 2.391\tw_b: 1.565\n"
     ]
    }
   ],
   "source": [
    "##training\n",
    "for epoch_num in range(num_epochs):\n",
    "    y_pred=forward(x)\n",
    "    loss=criterion(y_true,y_pred)\n",
    "    \n",
    "    loss.backward()\n",
    "    dl_dw=w_m.grad.to(device=device)\n",
    "    dl_db=w_b.grad.to(device=device)\n",
    "\n",
    "    with torch.no_grad():\n",
    "        w_m -=lr*dl_dw\n",
    "        w_b-=lr*dl_db\n",
    "\n",
    "    if epoch_num%10==0:\n",
    "       \n",
    "        print('Epoch Num: {}'.format(epoch_num))\n",
    "        print('loss= {:.3f}\\tw_m: {:.3f}\\tw_b: {:.3f}'.format(loss.item(),w_m.item(),w_b.item()))\n",
    "\n",
    "    w_m.grad.zero_()\n",
    "    w_b.grad.zero_()"
   ]
  },
  {
   "cell_type": "code",
   "execution_count": 69,
   "metadata": {},
   "outputs": [],
   "source": [
    "y_pred=y_pred.detach().numpy()"
   ]
  },
  {
   "cell_type": "code",
   "execution_count": 70,
   "metadata": {},
   "outputs": [
    {
     "data": {
      "text/plain": [
       "array([ 3.9724553,  6.3729706,  8.773486 , 11.174002 ], dtype=float32)"
      ]
     },
     "execution_count": 70,
     "metadata": {},
     "output_type": "execute_result"
    }
   ],
   "source": [
    "y_pred"
   ]
  },
  {
   "cell_type": "code",
   "execution_count": 16,
   "metadata": {},
   "outputs": [
    {
     "data": {
      "text/plain": [
       "tensor(46.1384, device='cuda:0', grad_fn=<MeanBackward0>)"
      ]
     },
     "execution_count": 16,
     "metadata": {},
     "output_type": "execute_result"
    }
   ],
   "source": [
    "loss"
   ]
  },
  {
   "cell_type": "code",
   "execution_count": null,
   "metadata": {},
   "outputs": [],
   "source": []
  }
 ],
 "metadata": {
  "kernelspec": {
   "display_name": "vision",
   "language": "python",
   "name": "python3"
  },
  "language_info": {
   "codemirror_mode": {
    "name": "ipython",
    "version": 3
   },
   "file_extension": ".py",
   "mimetype": "text/x-python",
   "name": "python",
   "nbconvert_exporter": "python",
   "pygments_lexer": "ipython3",
   "version": "3.9.12"
  }
 },
 "nbformat": 4,
 "nbformat_minor": 2
}
