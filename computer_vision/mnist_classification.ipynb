{
 "cells": [
  {
   "cell_type": "code",
   "execution_count": 18,
   "metadata": {},
   "outputs": [],
   "source": [
    "import torch \n",
    "import torch.nn as nn \n",
    "from torch.nn import Sequential,Conv2d, MaxPool2d, Flatten, Linear, ReLU\n",
    "from torch.nn import  CrossEntropyLoss\n",
    "from torch.optim import SGD\n",
    "from torch.utils.data import DataLoader\n",
    "\n",
    "###############\n",
    "import torchvision\n",
    "from torchvision.datasets import MNIST\n",
    "from torchvision import transforms\n",
    "\n"
   ]
  },
  {
   "cell_type": "code",
   "execution_count": 19,
   "metadata": {},
   "outputs": [
    {
     "name": "stdout",
     "output_type": "stream",
     "text": [
      "<class 'PIL.Image.Image'>\n",
      "(28, 28)\n"
     ]
    }
   ],
   "source": [
    "##import train_dataset and test_dataset\n",
    "train_dataset=MNIST(root='../data/',\n",
    "                    train=True,\n",
    "                    download=False)\n",
    "\n",
    "test_dataset=MNIST(root='../data/',\n",
    "                   train=False,\n",
    "                   download=True)\n",
    "## Checking the dataset\n",
    "img,lbl=train_dataset[0]\n",
    "print(type(img))\n",
    "print(img.size)"
   ]
  },
  {
   "cell_type": "code",
   "execution_count": null,
   "metadata": {},
   "outputs": [],
   "source": []
  },
  {
   "cell_type": "code",
   "execution_count": 20,
   "metadata": {},
   "outputs": [],
   "source": [
    "## Let's apply some transformation \n",
    "\n",
    "transform=transforms.Compose(transforms=[transforms.ToTensor(),\n",
    "                                         transforms.Normalize((0.5,), (0.5, ))]) ## How did it reshape to 3D\n",
    "\n",
    "\n"
   ]
  },
  {
   "cell_type": "markdown",
   "metadata": {},
   "source": [
    "*Here is what above transformation did:*\n",
    "\n",
    "\n",
    "1. **transforms.ToTensor()**:\n",
    "\n",
    "- This transform converts a PIL image or a NumPy array into a PyTorch tensor.\n",
    "- For an image, it converts the pixel values to the range [0, 1] and changes the shape from *HxWxC (Height x Width x Channels) to CxHxW, which is the standard in PyTorch.*\n",
    "- For grayscale images like those in the MNIST dataset, it effectively adds a channel dimension, changing the shape from (28, 28) to (1, 28, 28).\n",
    "\n",
    "2. **transforms.Normalize((0.5,), (0.5,)):**\n",
    "\n",
    "- This transform normalizes the tensor to have a mean of 0.5 and a standard deviation of 0.5 for each channel.\n",
    "- Since MNIST is grayscale, there's only one channel. The normalization helps in stabilizing the training process."
   ]
  },
  {
   "cell_type": "code",
   "execution_count": 21,
   "metadata": {},
   "outputs": [],
   "source": [
    "##import train_dataset and test_dataset, Now with transformation\n",
    "train_dataset=MNIST(root='../data/',\n",
    "                    train=True,\n",
    "                    transform=transform,\n",
    "                    download=False)\n",
    "\n",
    "test_dataset=MNIST(root='../data/',\n",
    "                   train=False,\n",
    "                   transform=transform,\n",
    "                   download=False)"
   ]
  },
  {
   "cell_type": "code",
   "execution_count": 22,
   "metadata": {},
   "outputs": [
    {
     "name": "stdout",
     "output_type": "stream",
     "text": [
      "<class 'torch.Tensor'>\n",
      "torch.Size([1, 28, 28])\n"
     ]
    }
   ],
   "source": [
    "## Need t o apply transformation \n",
    "## Checking the dataset\n",
    "img,lbl=train_dataset[2]\n",
    "print(type(img))\n",
    "print(img.shape)"
   ]
  },
  {
   "cell_type": "code",
   "execution_count": 23,
   "metadata": {},
   "outputs": [],
   "source": [
    "batch_size=512\n",
    "train_dataloader=DataLoader(dataset=train_dataset,\n",
    "                            shuffle=True,\n",
    "                            batch_size=batch_size)\n",
    "test_dataloader=DataLoader(dataset=test_dataset,\n",
    "                           shuffle=True,\n",
    "                           batch_size=batch_size)"
   ]
  },
  {
   "cell_type": "code",
   "execution_count": 24,
   "metadata": {},
   "outputs": [],
   "source": [
    "class Mnist_Classifier(nn.Module):\n",
    "    def __init__(self,in_channel=1):\n",
    "        super(Mnist_Classifier,self).__init__()\n",
    "        self.con1=Conv2d(in_channels=in_channel,\n",
    "                         out_channels=64,\n",
    "                         kernel_size=3)\n",
    "        self.con2=Conv2d(64,32,3)\n",
    "        self.flatten=Flatten()\n",
    "        self.linear1=Linear(32*5*5,10)\n",
    "\n",
    "    def forward(self,x):\n",
    "        x=self.con1(x)\n",
    "        x=ReLU()(x)\n",
    "        x=MaxPool2d(kernel_size=2)(x)\n",
    "        x=self.con2(x)\n",
    "        x=ReLU()(x)\n",
    "        x=MaxPool2d(kernel_size=2)(x)\n",
    "        x=self.flatten(x)\n",
    "        x=self.linear1(x)\n",
    "        return x \n",
    "\n",
    "\n"
   ]
  },
  {
   "cell_type": "code",
   "execution_count": 25,
   "metadata": {},
   "outputs": [],
   "source": [
    "model=Mnist_Classifier().to(device='cuda')"
   ]
  },
  {
   "cell_type": "code",
   "execution_count": 26,
   "metadata": {},
   "outputs": [
    {
     "data": {
      "text/plain": [
       "torch.Size([1, 10])"
      ]
     },
     "execution_count": 26,
     "metadata": {},
     "output_type": "execute_result"
    }
   ],
   "source": [
    "## The model is working correctly for our dataset\n",
    "model(img.unsqueeze(1).to(device='cuda')).shape"
   ]
  },
  {
   "cell_type": "code",
   "execution_count": 27,
   "metadata": {},
   "outputs": [],
   "source": [
    "## Find out the error in above \n",
    "lr=0.01\n",
    "opt=SGD(model.parameters(),lr=lr)\n",
    "criterion=CrossEntropyLoss()\n",
    "epochs=10\n"
   ]
  },
  {
   "cell_type": "code",
   "execution_count": 28,
   "metadata": {},
   "outputs": [
    {
     "name": "stdout",
     "output_type": "stream",
     "text": [
      "Epoch Num:000  | Step Num:000\n",
      "Loss Value: 2.310\n",
      "Epoch Num:000  | Step Num:010\n",
      "Loss Value: 2.265\n",
      "Epoch Num:000  | Step Num:020\n",
      "Loss Value: 2.214\n",
      "Epoch Num:000  | Step Num:030\n",
      "Loss Value: 2.154\n",
      "Epoch Num:000  | Step Num:040\n",
      "Loss Value: 2.066\n",
      "Epoch Num:000  | Step Num:050\n",
      "Loss Value: 1.985\n",
      "Epoch Num:000  | Step Num:060\n",
      "Loss Value: 1.823\n",
      "Epoch Num:000  | Step Num:070\n",
      "Loss Value: 1.669\n",
      "Epoch Num:000  | Step Num:080\n",
      "Loss Value: 1.482\n",
      "Epoch Num:000  | Step Num:090\n",
      "Loss Value: 1.319\n",
      "Epoch Num:000  | Step Num:100\n",
      "Loss Value: 1.132\n",
      "Epoch Num:000  | Step Num:110\n",
      "Loss Value: 1.006\n",
      "Epoch Num:001  | Step Num:000\n",
      "Loss Value: 0.948\n",
      "Epoch Num:001  | Step Num:010\n",
      "Loss Value: 0.785\n",
      "Epoch Num:001  | Step Num:020\n",
      "Loss Value: 0.750\n",
      "Epoch Num:001  | Step Num:030\n",
      "Loss Value: 0.645\n",
      "Epoch Num:001  | Step Num:040\n",
      "Loss Value: 0.628\n",
      "Epoch Num:001  | Step Num:050\n",
      "Loss Value: 0.620\n",
      "Epoch Num:001  | Step Num:060\n",
      "Loss Value: 0.545\n",
      "Epoch Num:001  | Step Num:070\n",
      "Loss Value: 0.494\n",
      "Epoch Num:001  | Step Num:080\n",
      "Loss Value: 0.505\n",
      "Epoch Num:001  | Step Num:090\n",
      "Loss Value: 0.513\n",
      "Epoch Num:001  | Step Num:100\n",
      "Loss Value: 0.474\n",
      "Epoch Num:001  | Step Num:110\n",
      "Loss Value: 0.495\n",
      "Epoch Num:002  | Step Num:000\n",
      "Loss Value: 0.449\n",
      "Epoch Num:002  | Step Num:010\n",
      "Loss Value: 0.464\n",
      "Epoch Num:002  | Step Num:020\n",
      "Loss Value: 0.400\n",
      "Epoch Num:002  | Step Num:030\n",
      "Loss Value: 0.360\n",
      "Epoch Num:002  | Step Num:040\n",
      "Loss Value: 0.411\n",
      "Epoch Num:002  | Step Num:050\n",
      "Loss Value: 0.375\n",
      "Epoch Num:002  | Step Num:060\n",
      "Loss Value: 0.419\n",
      "Epoch Num:002  | Step Num:070\n",
      "Loss Value: 0.355\n",
      "Epoch Num:002  | Step Num:080\n",
      "Loss Value: 0.305\n",
      "Epoch Num:002  | Step Num:090\n",
      "Loss Value: 0.346\n",
      "Epoch Num:002  | Step Num:100\n",
      "Loss Value: 0.363\n",
      "Epoch Num:002  | Step Num:110\n",
      "Loss Value: 0.377\n",
      "Epoch Num:003  | Step Num:000\n",
      "Loss Value: 0.315\n",
      "Epoch Num:003  | Step Num:010\n",
      "Loss Value: 0.380\n",
      "Epoch Num:003  | Step Num:020\n",
      "Loss Value: 0.379\n",
      "Epoch Num:003  | Step Num:030\n",
      "Loss Value: 0.297\n",
      "Epoch Num:003  | Step Num:040\n",
      "Loss Value: 0.362\n",
      "Epoch Num:003  | Step Num:050\n",
      "Loss Value: 0.302\n",
      "Epoch Num:003  | Step Num:060\n",
      "Loss Value: 0.294\n",
      "Epoch Num:003  | Step Num:070\n",
      "Loss Value: 0.298\n",
      "Epoch Num:003  | Step Num:080\n",
      "Loss Value: 0.309\n",
      "Epoch Num:003  | Step Num:090\n",
      "Loss Value: 0.288\n",
      "Epoch Num:003  | Step Num:100\n",
      "Loss Value: 0.298\n",
      "Epoch Num:003  | Step Num:110\n",
      "Loss Value: 0.277\n",
      "Epoch Num:004  | Step Num:000\n",
      "Loss Value: 0.349\n",
      "Epoch Num:004  | Step Num:010\n",
      "Loss Value: 0.245\n",
      "Epoch Num:004  | Step Num:020\n",
      "Loss Value: 0.311\n",
      "Epoch Num:004  | Step Num:030\n",
      "Loss Value: 0.292\n",
      "Epoch Num:004  | Step Num:040\n",
      "Loss Value: 0.298\n",
      "Epoch Num:004  | Step Num:050\n",
      "Loss Value: 0.344\n",
      "Epoch Num:004  | Step Num:060\n",
      "Loss Value: 0.300\n",
      "Epoch Num:004  | Step Num:070\n",
      "Loss Value: 0.292\n",
      "Epoch Num:004  | Step Num:080\n",
      "Loss Value: 0.254\n",
      "Epoch Num:004  | Step Num:090\n",
      "Loss Value: 0.252\n",
      "Epoch Num:004  | Step Num:100\n",
      "Loss Value: 0.222\n",
      "Epoch Num:004  | Step Num:110\n",
      "Loss Value: 0.269\n",
      "Epoch Num:005  | Step Num:000\n",
      "Loss Value: 0.274\n",
      "Epoch Num:005  | Step Num:010\n",
      "Loss Value: 0.223\n",
      "Epoch Num:005  | Step Num:020\n",
      "Loss Value: 0.292\n",
      "Epoch Num:005  | Step Num:030\n",
      "Loss Value: 0.281\n",
      "Epoch Num:005  | Step Num:040\n",
      "Loss Value: 0.237\n",
      "Epoch Num:005  | Step Num:050\n",
      "Loss Value: 0.237\n",
      "Epoch Num:005  | Step Num:060\n",
      "Loss Value: 0.247\n",
      "Epoch Num:005  | Step Num:070\n",
      "Loss Value: 0.225\n",
      "Epoch Num:005  | Step Num:080\n",
      "Loss Value: 0.229\n",
      "Epoch Num:005  | Step Num:090\n",
      "Loss Value: 0.246\n",
      "Epoch Num:005  | Step Num:100\n",
      "Loss Value: 0.250\n",
      "Epoch Num:005  | Step Num:110\n",
      "Loss Value: 0.299\n",
      "Epoch Num:006  | Step Num:000\n",
      "Loss Value: 0.217\n",
      "Epoch Num:006  | Step Num:010\n",
      "Loss Value: 0.283\n",
      "Epoch Num:006  | Step Num:020\n",
      "Loss Value: 0.236\n",
      "Epoch Num:006  | Step Num:030\n",
      "Loss Value: 0.182\n",
      "Epoch Num:006  | Step Num:040\n",
      "Loss Value: 0.223\n",
      "Epoch Num:006  | Step Num:050\n",
      "Loss Value: 0.259\n",
      "Epoch Num:006  | Step Num:060\n",
      "Loss Value: 0.219\n",
      "Epoch Num:006  | Step Num:070\n",
      "Loss Value: 0.211\n",
      "Epoch Num:006  | Step Num:080\n",
      "Loss Value: 0.187\n",
      "Epoch Num:006  | Step Num:090\n",
      "Loss Value: 0.217\n",
      "Epoch Num:006  | Step Num:100\n",
      "Loss Value: 0.202\n",
      "Epoch Num:006  | Step Num:110\n",
      "Loss Value: 0.201\n",
      "Epoch Num:007  | Step Num:000\n",
      "Loss Value: 0.188\n",
      "Epoch Num:007  | Step Num:010\n",
      "Loss Value: 0.227\n",
      "Epoch Num:007  | Step Num:020\n",
      "Loss Value: 0.241\n",
      "Epoch Num:007  | Step Num:030\n",
      "Loss Value: 0.200\n",
      "Epoch Num:007  | Step Num:040\n",
      "Loss Value: 0.193\n",
      "Epoch Num:007  | Step Num:050\n",
      "Loss Value: 0.204\n",
      "Epoch Num:007  | Step Num:060\n",
      "Loss Value: 0.176\n",
      "Epoch Num:007  | Step Num:070\n",
      "Loss Value: 0.161\n",
      "Epoch Num:007  | Step Num:080\n",
      "Loss Value: 0.230\n",
      "Epoch Num:007  | Step Num:090\n",
      "Loss Value: 0.261\n",
      "Epoch Num:007  | Step Num:100\n",
      "Loss Value: 0.160\n",
      "Epoch Num:007  | Step Num:110\n",
      "Loss Value: 0.232\n",
      "Epoch Num:008  | Step Num:000\n",
      "Loss Value: 0.297\n",
      "Epoch Num:008  | Step Num:010\n",
      "Loss Value: 0.198\n",
      "Epoch Num:008  | Step Num:020\n",
      "Loss Value: 0.166\n",
      "Epoch Num:008  | Step Num:030\n",
      "Loss Value: 0.165\n",
      "Epoch Num:008  | Step Num:040\n",
      "Loss Value: 0.167\n",
      "Epoch Num:008  | Step Num:050\n",
      "Loss Value: 0.170\n",
      "Epoch Num:008  | Step Num:060\n",
      "Loss Value: 0.190\n",
      "Epoch Num:008  | Step Num:070\n",
      "Loss Value: 0.127\n",
      "Epoch Num:008  | Step Num:080\n",
      "Loss Value: 0.209\n",
      "Epoch Num:008  | Step Num:090\n",
      "Loss Value: 0.244\n",
      "Epoch Num:008  | Step Num:100\n",
      "Loss Value: 0.162\n",
      "Epoch Num:008  | Step Num:110\n",
      "Loss Value: 0.172\n",
      "Epoch Num:009  | Step Num:000\n",
      "Loss Value: 0.153\n",
      "Epoch Num:009  | Step Num:010\n",
      "Loss Value: 0.166\n",
      "Epoch Num:009  | Step Num:020\n",
      "Loss Value: 0.169\n",
      "Epoch Num:009  | Step Num:030\n",
      "Loss Value: 0.180\n",
      "Epoch Num:009  | Step Num:040\n",
      "Loss Value: 0.172\n",
      "Epoch Num:009  | Step Num:050\n",
      "Loss Value: 0.203\n",
      "Epoch Num:009  | Step Num:060\n",
      "Loss Value: 0.169\n",
      "Epoch Num:009  | Step Num:070\n",
      "Loss Value: 0.199\n",
      "Epoch Num:009  | Step Num:080\n",
      "Loss Value: 0.215\n",
      "Epoch Num:009  | Step Num:090\n",
      "Loss Value: 0.181\n",
      "Epoch Num:009  | Step Num:100\n",
      "Loss Value: 0.136\n",
      "Epoch Num:009  | Step Num:110\n",
      "Loss Value: 0.199\n"
     ]
    }
   ],
   "source": [
    "for epoch in range(epochs):\n",
    "\n",
    "    for step_num,(imgs,lbs) in enumerate(train_dataloader):\n",
    "\n",
    "        imgs=imgs.to(device='cuda')\n",
    "        lbs=lbs.to(device='cuda')\n",
    "\n",
    "        pred_lbs=model(imgs)\n",
    "        loss=criterion(pred_lbs,lbs)\n",
    "\n",
    "        loss.backward()\n",
    "\n",
    "        opt.step()\n",
    "        opt.zero_grad()\n",
    "\n",
    "        if step_num%10==0:\n",
    "            print('Epoch Num:{:03d}  | Step Num:{:03d}'.format(epoch,step_num))\n",
    "            print('Loss Value: {:.3f}'.format(loss))\n",
    "\n",
    "        \n"
   ]
  },
  {
   "cell_type": "code",
   "execution_count": 29,
   "metadata": {},
   "outputs": [
    {
     "data": {
      "text/plain": [
       "Mnist_Classifier(\n",
       "  (con1): Conv2d(1, 64, kernel_size=(3, 3), stride=(1, 1))\n",
       "  (con2): Conv2d(64, 32, kernel_size=(3, 3), stride=(1, 1))\n",
       "  (flatten): Flatten(start_dim=1, end_dim=-1)\n",
       "  (linear1): Linear(in_features=800, out_features=10, bias=True)\n",
       ")"
      ]
     },
     "execution_count": 29,
     "metadata": {},
     "output_type": "execute_result"
    }
   ],
   "source": [
    "model.eval()"
   ]
  },
  {
   "cell_type": "code",
   "execution_count": 35,
   "metadata": {},
   "outputs": [
    {
     "data": {
      "text/plain": [
       "tensor([7, 4, 7, 8, 9, 2, 2, 1, 5, 5, 7, 6, 9, 9, 1, 5, 9, 0, 8, 8, 1, 2, 4, 0,\n",
       "        4, 8, 4, 3, 3, 7, 7, 1, 9, 7, 7, 7, 3, 6, 1, 2, 7, 0, 6, 2, 2, 0, 2, 4,\n",
       "        0, 5, 9, 1, 2, 3, 2, 8, 8, 3, 5, 2, 4, 5, 9, 7, 3, 7, 7, 0, 1, 6, 6, 7,\n",
       "        2, 9, 6, 9, 9, 6, 8, 6, 4, 9, 4, 1, 4, 8, 8, 5, 6, 1, 2, 2, 6, 7, 5, 1],\n",
       "       device='cuda:0')"
      ]
     },
     "execution_count": 35,
     "metadata": {},
     "output_type": "execute_result"
    }
   ],
   "source": [
    "torch.argmax(model(imgs),1)"
   ]
  }
 ],
 "metadata": {
  "kernelspec": {
   "display_name": "vision",
   "language": "python",
   "name": "python3"
  },
  "language_info": {
   "codemirror_mode": {
    "name": "ipython",
    "version": 3
   },
   "file_extension": ".py",
   "mimetype": "text/x-python",
   "name": "python",
   "nbconvert_exporter": "python",
   "pygments_lexer": "ipython3",
   "version": "3.9.12"
  }
 },
 "nbformat": 4,
 "nbformat_minor": 2
}
